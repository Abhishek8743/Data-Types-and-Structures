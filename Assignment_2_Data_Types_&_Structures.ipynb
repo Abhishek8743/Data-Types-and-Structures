{
  "nbformat": 4,
  "nbformat_minor": 0,
  "metadata": {
    "colab": {
      "provenance": []
    },
    "kernelspec": {
      "name": "python3",
      "display_name": "Python 3"
    },
    "language_info": {
      "name": "python"
    }
  },
  "cells": [
    {
      "cell_type": "code",
      "execution_count": null,
      "metadata": {
        "id": "QGqoje0IS9M1"
      },
      "outputs": [],
      "source": [
        "name = \"Himanshu Agarwal\"\n",
        "Course = \"Data Analytics\"\n",
        "Assignmnet = \"Data Types & Structures\"\n",
        "Email = \"erhimanshuagarwal79@gmail.com\""
      ]
    },
    {
      "cell_type": "markdown",
      "source": [
        "#THEORY QUESTIONS\n",
        "\n",
        "1.What are data structures, and why are they important?\n",
        "\n",
        " - Data structures are ways of organizing, storing, and managing data so that it can be used efficiently. Think of them as containers or blueprints that help store data in a specific format depending on the need.\n",
        "\n",
        " # Data Structures are important because:-\n",
        "  \n",
        "  - Efficiency:\n",
        "Different structures provide faster ways to perform operations like searching, sorting, inserting, and deleting data.\n",
        "\n",
        "  - Problem Solving:\n",
        "Many algorithms (like graph traversal or tree balancing) are based on the properties of data structures.\n",
        "\n",
        "  - Memory Management:\n",
        "Choosing the right structure helps use memory more efficiently.\n",
        "\n",
        "  - Reusability:\n",
        "Well-implemented data structures can be reused in various applications.\n",
        "\n",
        "  - Real-World Modeling:\n",
        "Structures like graphs (social networks), trees (file systems), and queues (task scheduling) model real-world scenarios directly.\n",
        "\n",
        "2. Explain the difference between mutable and immutable data types with examples.\n",
        "\n",
        "#MUTUBLE DATA TYPES\n",
        "  - We can change their contents without changing the identity (memory address) of the object.\n",
        "\n",
        "Examples:\n",
        "list, dict, set, bytearray\n",
        "\n",
        "#Immutable Data Types\n",
        "  - You cannot change their contents after creation. Any change creates a new object.\n",
        "\n",
        "Examples:\n",
        "int,float,bool,str,tuple,frozenset,bytes"
      ],
      "metadata": {
        "id": "vcJKnO-dWxRP"
      }
    },
    {
      "cell_type": "code",
      "source": [
        "# Example (List - Mutable):\n",
        "\n",
        "my_list = [1, 2, 3]\n",
        "\n",
        "my_list.append(4)\n",
        "print(my_list)"
      ],
      "metadata": {
        "colab": {
          "base_uri": "https://localhost:8080/"
        },
        "id": "JGDdQXz_cCVE",
        "outputId": "85293153-1d0e-4b74-934e-b198a9664ef6"
      },
      "execution_count": null,
      "outputs": [
        {
          "output_type": "stream",
          "name": "stdout",
          "text": [
            "[1, 2, 3, 4]\n"
          ]
        }
      ]
    },
    {
      "cell_type": "code",
      "source": [
        "# Example (String - Immutable):\n",
        "t = (1,2,3,4,5,6)\n",
        "t[0]= 101"
      ],
      "metadata": {
        "colab": {
          "base_uri": "https://localhost:8080/",
          "height": 182
        },
        "id": "pqbdt-nicIue",
        "outputId": "e5c206ed-4285-4ed1-fc50-6222606a241a"
      },
      "execution_count": null,
      "outputs": [
        {
          "output_type": "error",
          "ename": "TypeError",
          "evalue": "'tuple' object does not support item assignment",
          "traceback": [
            "\u001b[0;31m---------------------------------------------------------------------------\u001b[0m",
            "\u001b[0;31mTypeError\u001b[0m                                 Traceback (most recent call last)",
            "\u001b[0;32m/tmp/ipython-input-11-1271310492.py\u001b[0m in \u001b[0;36m<cell line: 0>\u001b[0;34m()\u001b[0m\n\u001b[1;32m      1\u001b[0m \u001b[0;31m# Example (String - Immutable):\u001b[0m\u001b[0;34m\u001b[0m\u001b[0;34m\u001b[0m\u001b[0m\n\u001b[1;32m      2\u001b[0m \u001b[0mt\u001b[0m \u001b[0;34m=\u001b[0m \u001b[0;34m(\u001b[0m\u001b[0;36m1\u001b[0m\u001b[0;34m,\u001b[0m\u001b[0;36m2\u001b[0m\u001b[0;34m,\u001b[0m\u001b[0;36m3\u001b[0m\u001b[0;34m,\u001b[0m\u001b[0;36m4\u001b[0m\u001b[0;34m,\u001b[0m\u001b[0;36m5\u001b[0m\u001b[0;34m,\u001b[0m\u001b[0;36m6\u001b[0m\u001b[0;34m)\u001b[0m\u001b[0;34m\u001b[0m\u001b[0;34m\u001b[0m\u001b[0m\n\u001b[0;32m----> 3\u001b[0;31m \u001b[0mt\u001b[0m\u001b[0;34m[\u001b[0m\u001b[0;36m0\u001b[0m\u001b[0;34m]\u001b[0m\u001b[0;34m=\u001b[0m \u001b[0;36m101\u001b[0m\u001b[0;34m\u001b[0m\u001b[0;34m\u001b[0m\u001b[0m\n\u001b[0m",
            "\u001b[0;31mTypeError\u001b[0m: 'tuple' object does not support item assignment"
          ]
        }
      ]
    },
    {
      "cell_type": "code",
      "source": [],
      "metadata": {
        "id": "bzSei3z7dEh9"
      },
      "execution_count": null,
      "outputs": []
    },
    {
      "cell_type": "markdown",
      "source": [
        "3. What are the main differences between lists and tuples in Python?\n",
        "  \n",
        "  - The main differences between lists and tuples in Python center around their mutability and associated characteristics:\n",
        "\n",
        "#Mutability:\n",
        "#This is the most significant difference.\n",
        "  - Lists are mutable: Their elements can be added, removed, or modified after the list has been created.\n",
        "  - Tuples are immutable: Once a tuple is created, its elements cannot be changed, added, or removed.\n",
        "#Syntax:\n",
        "  - Lists are defined using square brackets: [item1, item2, ...]\n",
        "  - Tuples are defined using parentheses: (item1, item2, ...) (parentheses are optional for single-element tuples or when used in assignment, but recommended for clarity).\n",
        "#Performance and Memory:\n",
        "  - Tuples are generally faster and more memory-efficient than lists because their size is fixed and Python doesn't need to allocate extra memory for potential future modifications.\n",
        "  - Lists, being mutable, require more overhead for dynamic resizing and modifications.\n",
        "#Use Cases:\n",
        "  - Lists: are suitable for collections of items that may change over time, such as a shopping cart or a list of user inputs.\n",
        "  - Tuples: are ideal for fixed collections of related data, such as coordinates (x, y) or database records, where the data should not be altered after creation. They are also commonly used as dictionary keys because of their immutability.\n",
        "#Methods:\n",
        "  - Lists offer a wider range of built-in methods for manipulation (e.g., append(), remove(), sort()).\n",
        "  - Tuples have fewer methods, primarily count() and index(), reflecting their immutable nature.\n",
        "\n",
        "4. Describe how dictionaries store data.\n",
        "\n",
        "  - A dictionary in Python is an unordered, mutable, and indexed collection used to store key-value pairs."
      ],
      "metadata": {
        "id": "yEgBuGYwd9kA"
      }
    },
    {
      "cell_type": "code",
      "source": [
        "my_dict = {\n",
        "    \"name\": \"Himanshu Agarwal\",\n",
        "    \"age\": 28,\n",
        "    \"city\": \"Delhi\"\n",
        "}\n",
        "\n",
        "print(my_dict)"
      ],
      "metadata": {
        "colab": {
          "base_uri": "https://localhost:8080/"
        },
        "id": "GmXNUi4yfqk0",
        "outputId": "e4b3e373-0b4e-4217-f136-bb45d772babe"
      },
      "execution_count": null,
      "outputs": [
        {
          "output_type": "stream",
          "name": "stdout",
          "text": [
            "{'name': 'Himanshu Agarwal', 'age': 28, 'city': 'Delhi'}\n"
          ]
        }
      ]
    },
    {
      "cell_type": "markdown",
      "source": [
        "5. Why might you use a set instead of a list in Python?\n",
        "\n",
        "  - Because sets cannot have multiple occurrences of the same element, it makes sets highly useful to efficiently remove duplicate values from a list or tuple and to perform common math operations like unions and intersections.\n",
        "\n",
        "  - Duplicate elements are not allowed or need to be automatically removed.\n",
        "  - Fast membership testing is a priority.\n",
        "  - Mathematical set operations are required.\n",
        "  - The order of elements is not relevant.\n",
        "\n",
        "6. What is a string in Python, and how is it different from a list.\n",
        "\n",
        "  - A string in Python is a sequence of characters enclosed in single quotes (' '), double quotes (\" \"), or triple quotes (''' ''' / \"\"\" \"\"\").\n",
        "  - A string is an immutable sequence of characters, while a list is a mutable sequence of items."
      ],
      "metadata": {
        "id": "QwqRE4jvhuKK"
      }
    },
    {
      "cell_type": "code",
      "source": [
        "# String example\n",
        "my_string = \"hello\"\n",
        "my_string[1]= \"a\"\n",
        "my_string"
      ],
      "metadata": {
        "colab": {
          "base_uri": "https://localhost:8080/",
          "height": 200
        },
        "id": "Nkf6O2wqgXyv",
        "outputId": "06c5c707-716c-4deb-d510-64d1cf1eb7c3"
      },
      "execution_count": null,
      "outputs": [
        {
          "output_type": "error",
          "ename": "TypeError",
          "evalue": "'str' object does not support item assignment",
          "traceback": [
            "\u001b[0;31m---------------------------------------------------------------------------\u001b[0m",
            "\u001b[0;31mTypeError\u001b[0m                                 Traceback (most recent call last)",
            "\u001b[0;32m/tmp/ipython-input-17-2368428997.py\u001b[0m in \u001b[0;36m<cell line: 0>\u001b[0;34m()\u001b[0m\n\u001b[1;32m      1\u001b[0m \u001b[0;31m# String example\u001b[0m\u001b[0;34m\u001b[0m\u001b[0;34m\u001b[0m\u001b[0m\n\u001b[1;32m      2\u001b[0m \u001b[0mmy_string\u001b[0m \u001b[0;34m=\u001b[0m \u001b[0;34m\"hello\"\u001b[0m\u001b[0;34m\u001b[0m\u001b[0;34m\u001b[0m\u001b[0m\n\u001b[0;32m----> 3\u001b[0;31m \u001b[0mmy_string\u001b[0m\u001b[0;34m[\u001b[0m\u001b[0;36m1\u001b[0m\u001b[0;34m]\u001b[0m\u001b[0;34m=\u001b[0m \u001b[0;34m\"a\"\u001b[0m\u001b[0;34m\u001b[0m\u001b[0;34m\u001b[0m\u001b[0m\n\u001b[0m\u001b[1;32m      4\u001b[0m \u001b[0mmy_string\u001b[0m\u001b[0;34m\u001b[0m\u001b[0;34m\u001b[0m\u001b[0m\n",
            "\u001b[0;31mTypeError\u001b[0m: 'str' object does not support item assignment"
          ]
        }
      ]
    },
    {
      "cell_type": "code",
      "source": [
        "# List example\n",
        "my_list = ['h', 'e', 'l', 'l', 'o']\n",
        "my_list[-4]=\"a\"\n",
        "my_list"
      ],
      "metadata": {
        "colab": {
          "base_uri": "https://localhost:8080/"
        },
        "id": "38FD3m0skp0t",
        "outputId": "624a7fa1-4542-4e7a-d8c0-aee536d81ea2"
      },
      "execution_count": null,
      "outputs": [
        {
          "output_type": "execute_result",
          "data": {
            "text/plain": [
              "['h', 'a', 'l', 'l', 'o']"
            ]
          },
          "metadata": {},
          "execution_count": 18
        }
      ]
    },
    {
      "cell_type": "markdown",
      "source": [
        "7. How do tuples ensure data integrity in Python?\n",
        "\n",
        "  - Tuples in Python ensure data integrity primarily through their immutability. This characteristic means that once a tuple is created, its elements cannot be changed, added, or removed.\n",
        "\n",
        "8. What is a hash table, and how does it relate to dictionaries in Python?\n",
        "\n",
        "  - A hash table is a data structure that stores key-value pairs and allows fast access to values using keys. It uses a process called hashing to compute an index (a location in memory) where the value is stored.\n",
        "\n",
        "  - Python dictionaries are implemented using hash tables. A hash table is a data structure that stores key-value pairs and allows for efficient retrieval, insertion, and deletion of these pairs.\n",
        "\n",
        "9. Can lists contain different data types in Python?\n",
        "\n",
        "  - Yes, because python lists are flexible and can store multiple data types in the same list. This is one of the strengths of Python as a dynamically typed language.\n",
        "\n",
        "# Example:\n",
        "\n",
        "my_list = [42, \"hello\", 3.14, True, [1, 2, 3], {\"key\": \"value\"}]\n",
        "This list contains:\n",
        "\n",
        "   - An integer (42)\n",
        "   - A string (\"hello\")\n",
        "   - A float (3.14)\n",
        "   - A boolean (True)\n",
        "   - Another list ([1, 2, 3])\n",
        "   - A dictionary ({\"key\": \"value\"})\n",
        "\n",
        "10.  Explain why strings are immutable in Python.\n",
        "\n",
        "   - Strings are immutable in Python, meaning their elements cannot be changed after they are created. Any operation that appears to modify a string actually results in the creation of a new string object with the desired changes, while the original string remains untouched in memory.\n",
        "\n",
        "11. What advantages do dictionaries offer over lists for certain tasks?\n",
        "\n",
        "  - Dictionaries (dict) and lists (list) are both powerful data structures, but dictionaries offer specific advantages when dealing with key-value pair data or when fast lookup is needed.\n",
        "\n",
        " 1. Fast Lookups (O(1) Time Complexity)\n",
        "Dictionaries allow direct access to values using keys — no need to loop.\n",
        "\n",
        "Lists require searching by index or iterating over items.\n",
        "\n",
        "# Dictionary (fast)\n",
        "person = {\"name\": \"Himanshu\", \"age\": 28}\n",
        "print(person[\"age\"])  # Output: 28\n",
        "\n",
        "# List (slower, less clear)\n",
        "person_list = [\"Himanshu\", 28]\n",
        "print(person_list[1])  # Output: 28 — but less readable\n",
        "\n",
        " 2. Key-Value Pairing for Meaningful Data\n",
        "- Dictionaries store data with named keys, making code more readable and meaningful.\n",
        "\n",
        "In lists, positions (indexes) must be remembered.\n",
        "\n",
        "student = {\"name\": \"Raj\", \"marks\": 87}\n",
        "\n",
        "# Easier to understand than: [\"Raj\", 87]\n",
        "\n",
        " 3. Dynamic and Flexible Access\n",
        "With dictionaries, you can add, remove, or update values based on a key directly.\n",
        "\n",
        "In lists, you must know the index or loop through the items.\n",
        "\n",
        "student[\"class\"] = \"10th\"  # Easy to add\n",
        "del student[\"marks\"]       # Easy to remove\n",
        "\n",
        " 4. Avoiding Duplicates in Keys\n",
        "Keys in a dictionary are unique, which automatically prevents duplicates.\n",
        "\n",
        "Lists can have duplicate elements, which may cause confusion in some tasks.\n",
        "\n",
        "data = {\"id\": 101, \"id\": 102}  # The second one replaces the first\n",
        "\n",
        " 5. Better for Structured or Labeled Data\n",
        "Use dictionaries when data has labels or named attributes:\n",
        "\n",
        "product = {\n",
        "    \"id\": 123,\n",
        "    \"name\": \"Laptop\",\n",
        "    \"price\": 45000,\n",
        "    \"in_stock\": True\n",
        "}\n",
        "\n",
        "12. Describe a scenario where using a tuple would be preferable over a list?\n",
        "\n",
        "  - A tuple is preferable over a list in scenarios where data should not be changed after creation — i.e., when immutability is important. Here's a scenario to illustrate:\n",
        "\n",
        "# Scenario: Storing GPS Coordinates\n",
        "-Imagine we are building a GPS tracking application. Each location is represented by latitude and longitude values.\n",
        "\n",
        "# we use tuple here because of the following reasons:\n",
        "- Immutability: GPS coordinates for a recorded location should not be accidentally changed. Using a tuple helps enforce that.\n",
        "\n",
        "- Hashable: Tuples can be used as dictionary keys or in sets, unlike lists.\n",
        "\n",
        "- Performance: Tuples have a slightly faster performance due to their fixed size."
      ],
      "metadata": {
        "id": "zP0yo7Hfk6Q9"
      }
    },
    {
      "cell_type": "code",
      "source": [
        "#Example for using a tuple\n",
        "location = (28.6139, 77.2090)  # Coordinates for New Delhi\n",
        "location[0]=12.458\n",
        "\n",
        "#so here in this example i was trying to make a coordinates for new delhi and if i used the lists in place of tuple so the value of index will get chnaged as ishowed in example and due to which the coordinates will be created for some other place in place of delhi. That's why we prefer using tuple to avoid such kind of errors in secure data."
      ],
      "metadata": {
        "id": "tGEQ7YYok3y1",
        "colab": {
          "base_uri": "https://localhost:8080/",
          "height": 245
        },
        "outputId": "1a7154e5-fbde-4391-e954-9e9cbc4dc6e3"
      },
      "execution_count": 53,
      "outputs": [
        {
          "output_type": "error",
          "ename": "TypeError",
          "evalue": "'tuple' object does not support item assignment",
          "traceback": [
            "\u001b[0;31m---------------------------------------------------------------------------\u001b[0m",
            "\u001b[0;31mTypeError\u001b[0m                                 Traceback (most recent call last)",
            "\u001b[0;32m/tmp/ipython-input-53-2933557492.py\u001b[0m in \u001b[0;36m<cell line: 0>\u001b[0;34m()\u001b[0m\n\u001b[1;32m      1\u001b[0m \u001b[0;31m#Example for using a tuple\u001b[0m\u001b[0;34m\u001b[0m\u001b[0;34m\u001b[0m\u001b[0m\n\u001b[1;32m      2\u001b[0m \u001b[0mlocation\u001b[0m \u001b[0;34m=\u001b[0m \u001b[0;34m(\u001b[0m\u001b[0;36m28.6139\u001b[0m\u001b[0;34m,\u001b[0m \u001b[0;36m77.2090\u001b[0m\u001b[0;34m)\u001b[0m  \u001b[0;31m# Coordinates for New Delhi\u001b[0m\u001b[0;34m\u001b[0m\u001b[0;34m\u001b[0m\u001b[0m\n\u001b[0;32m----> 3\u001b[0;31m \u001b[0mlocation\u001b[0m\u001b[0;34m[\u001b[0m\u001b[0;36m0\u001b[0m\u001b[0;34m]\u001b[0m\u001b[0;34m=\u001b[0m\u001b[0;36m12.458\u001b[0m\u001b[0;34m\u001b[0m\u001b[0;34m\u001b[0m\u001b[0m\n\u001b[0m\u001b[1;32m      4\u001b[0m \u001b[0;34m\u001b[0m\u001b[0m\n\u001b[1;32m      5\u001b[0m \u001b[0;31m#so here in this example i was trying to make a coordinates for new delhi and if i used the lists in place of tuple so the value of index will get chnaged as ishowed in example and due to which the coordinates will be created for some other place in place of delhi. That's why we prefer using tuple to avoid such kind of errors in secure data.\u001b[0m\u001b[0;34m\u001b[0m\u001b[0;34m\u001b[0m\u001b[0m\n",
            "\u001b[0;31mTypeError\u001b[0m: 'tuple' object does not support item assignment"
          ]
        }
      ]
    },
    {
      "cell_type": "markdown",
      "source": [
        "13. How do sets handle duplicate values in python?\n",
        "\n",
        "  - In Python, sets automatically eliminate duplicate values. A set is an unordered collection of unique elements, so when you add duplicate items, only one copy is kept."
      ],
      "metadata": {
        "id": "SnyZO9itd8Sj"
      }
    },
    {
      "cell_type": "code",
      "source": [
        "# Example\n",
        "\n",
        "my_set={1,2,1,2,14,2,5,3,1,3,8,6,7,5,8,}\n",
        "my_set"
      ],
      "metadata": {
        "colab": {
          "base_uri": "https://localhost:8080/"
        },
        "id": "wXUV2ow9dJ1d",
        "outputId": "3f366fbf-dea2-4a90-d1c6-059eec902bb1"
      },
      "execution_count": 54,
      "outputs": [
        {
          "output_type": "execute_result",
          "data": {
            "text/plain": [
              "{1, 2, 3, 5, 6, 7, 8, 14}"
            ]
          },
          "metadata": {},
          "execution_count": 54
        }
      ]
    },
    {
      "cell_type": "markdown",
      "source": [
        "14. How does the \"in' keyword works differently for lists and dictionaries?\n",
        "\n",
        "  - The \"in\" operation for the dictionary tests on keys. The key of the dictionary is a unique value as well as the set, and the execution time is about the same as for sets. On the other hand, dictionary values can be duplicated like a list."
      ],
      "metadata": {
        "id": "75y47QX8fkhI"
      }
    },
    {
      "cell_type": "code",
      "source": [
        "# Example for question no.14\n",
        "#In Lists;\n",
        "\n",
        "fruits = ['apple', 'banana', 'cherry']\n",
        "print('banana' in fruits)"
      ],
      "metadata": {
        "colab": {
          "base_uri": "https://localhost:8080/"
        },
        "id": "-FG9HfD3fdeT",
        "outputId": "8c16b0c7-85d6-479c-e711-c049d2323da2"
      },
      "execution_count": 55,
      "outputs": [
        {
          "output_type": "stream",
          "name": "stdout",
          "text": [
            "True\n"
          ]
        }
      ]
    },
    {
      "cell_type": "code",
      "source": [
        "# In dictionaries;\n",
        "person = {'name': 'Himanshu', 'age': 28}\n",
        "print('name' in person)\n",
        "print('Himanshu' in person)"
      ],
      "metadata": {
        "colab": {
          "base_uri": "https://localhost:8080/"
        },
        "id": "3pijKNl6gyNX",
        "outputId": "790abcd7-e2aa-4e59-fe92-e1afb8662ab9"
      },
      "execution_count": 56,
      "outputs": [
        {
          "output_type": "stream",
          "name": "stdout",
          "text": [
            "True\n",
            "False\n"
          ]
        }
      ]
    },
    {
      "cell_type": "markdown",
      "source": [
        "15. Can you modify the elements of a tuple? Explain why or why not?\n",
        "\n",
        "  - Once we create a tuple then its elements cannot be changed/modified, added or removed."
      ],
      "metadata": {
        "id": "2OcN3WHEieoe"
      }
    },
    {
      "cell_type": "code",
      "source": [
        "#Example for question no.15\n",
        "my_tuple = (102, 201, 301)\n",
        "my_tuple[0] = 101"
      ],
      "metadata": {
        "colab": {
          "base_uri": "https://localhost:8080/",
          "height": 176
        },
        "id": "reHJ6TZpjDLO",
        "outputId": "992274f6-a06a-46ee-8425-d6e63fbbedfa"
      },
      "execution_count": 57,
      "outputs": [
        {
          "output_type": "error",
          "ename": "TypeError",
          "evalue": "'tuple' object does not support item assignment",
          "traceback": [
            "\u001b[0;31m---------------------------------------------------------------------------\u001b[0m",
            "\u001b[0;31mTypeError\u001b[0m                                 Traceback (most recent call last)",
            "\u001b[0;32m/tmp/ipython-input-57-731660623.py\u001b[0m in \u001b[0;36m<cell line: 0>\u001b[0;34m()\u001b[0m\n\u001b[1;32m      1\u001b[0m \u001b[0;31m#Example for question no.15\u001b[0m\u001b[0;34m\u001b[0m\u001b[0;34m\u001b[0m\u001b[0m\n\u001b[1;32m      2\u001b[0m \u001b[0mmy_tuple\u001b[0m \u001b[0;34m=\u001b[0m \u001b[0;34m(\u001b[0m\u001b[0;36m102\u001b[0m\u001b[0;34m,\u001b[0m \u001b[0;36m201\u001b[0m\u001b[0;34m,\u001b[0m \u001b[0;36m301\u001b[0m\u001b[0;34m)\u001b[0m\u001b[0;34m\u001b[0m\u001b[0;34m\u001b[0m\u001b[0m\n\u001b[0;32m----> 3\u001b[0;31m \u001b[0mmy_tuple\u001b[0m\u001b[0;34m[\u001b[0m\u001b[0;36m0\u001b[0m\u001b[0;34m]\u001b[0m \u001b[0;34m=\u001b[0m \u001b[0;36m101\u001b[0m\u001b[0;34m\u001b[0m\u001b[0;34m\u001b[0m\u001b[0m\n\u001b[0m",
            "\u001b[0;31mTypeError\u001b[0m: 'tuple' object does not support item assignment"
          ]
        }
      ]
    },
    {
      "cell_type": "markdown",
      "source": [
        "16. What is anested dictionary, and give a example of its use case?\n",
        "\n",
        "  - A nested dictionary is a dictionary inside another dictionary. It's useful for representing hierarchical or structured data — like records within records."
      ],
      "metadata": {
        "id": "RUf-QZ8LjSaT"
      }
    },
    {
      "cell_type": "code",
      "source": [
        "# use case example of question no.16\n",
        "contacts = {\n",
        "    \"Ajay\": {\"phone\": \"9876543210\", \"email\": \"ajay@example.com\"},\n",
        "    \"Himanshu\": {\"phone\": \"9123456780\", \"email\": \"himanshu@example.com\"},\n",
        "    \"Chandan\": {\"phone\": \"9012345678\", \"email\": \"chandan@example.com\"}\n",
        "}\n",
        "print(contacts[\"Ajay\"][\"phone\"])\n",
        "contacts[\"Himanshu\"][\"email\"] = \"himanshu_new@example.com\"\n",
        "del contacts[\"Chandan\"]"
      ],
      "metadata": {
        "colab": {
          "base_uri": "https://localhost:8080/"
        },
        "id": "POSzhCiTjI-_",
        "outputId": "e3beeee7-5045-4f53-aa2a-7af31c232384"
      },
      "execution_count": 18,
      "outputs": [
        {
          "output_type": "stream",
          "name": "stdout",
          "text": [
            "9876543210\n"
          ]
        }
      ]
    },
    {
      "cell_type": "code",
      "source": [
        "contacts[\"Dev\"] = {\"phone\": \"9998887776\", \"email\": \"dev@example.com\"}\n",
        "contacts"
      ],
      "metadata": {
        "colab": {
          "base_uri": "https://localhost:8080/"
        },
        "id": "-Pl9Opp0ksHD",
        "outputId": "42d10864-8d1a-4bd8-e61a-97bdf5438497"
      },
      "execution_count": 19,
      "outputs": [
        {
          "output_type": "execute_result",
          "data": {
            "text/plain": [
              "{'Ajay': {'phone': '9876543210', 'email': 'ajay@example.com'},\n",
              " 'Himanshu': {'phone': '9123456780', 'email': 'himanshu_new@example.com'},\n",
              " 'Dev': {'phone': '9998887776', 'email': 'dev@example.com'}}"
            ]
          },
          "metadata": {},
          "execution_count": 19
        }
      ]
    },
    {
      "cell_type": "markdown",
      "source": [
        "17. Describe the time complexity of accessing elements in a dictionary.\n",
        "\n",
        "  - Accessing elements in a dictionary (also known as a hash map or associative array) typically has a time complexity of O(1) on average, which means it takes constant time regardless of the dictionary's size. This is because dictionaries use a hash table internally to store and retrieve data, and hash table lookups are generally very fast."
      ],
      "metadata": {
        "id": "ZqZoH_Xwld7t"
      }
    },
    {
      "cell_type": "code",
      "source": [
        "table = \"\\toperation\\tAverageCase\\tWorstcase\\nAccess(dict[Key])   \\tO(1)    \\tO(n)\\ninsert/update   \\tO(1)    \\tO(n)\\ndelete          \\tO(1)         \\tO(n)\"\n",
        "table\n",
        "print(table)"
      ],
      "metadata": {
        "colab": {
          "base_uri": "https://localhost:8080/"
        },
        "id": "N5aumwCalONn",
        "outputId": "512929f9-224e-424d-eeac-bf8291a9da96"
      },
      "execution_count": 34,
      "outputs": [
        {
          "output_type": "stream",
          "name": "stdout",
          "text": [
            "\toperation\tAverageCase\tWorstcase\n",
            "Access(dict[Key])   \tO(1)    \tO(n)\n",
            "insert/update   \tO(1)    \tO(n)\n",
            "delete          \tO(1)         \tO(n)\n"
          ]
        }
      ]
    },
    {
      "cell_type": "code",
      "source": [
        "contacts = {\"Ajay\": \"9876543210\", \"Himanshu\": \"9123456780\"}\n",
        "print(contacts[\"Ajay\"])"
      ],
      "metadata": {
        "colab": {
          "base_uri": "https://localhost:8080/"
        },
        "id": "x9aKZaYnnNcN",
        "outputId": "06d329ad-4a75-4577-ce52-9affc32726a1"
      },
      "execution_count": 35,
      "outputs": [
        {
          "output_type": "stream",
          "name": "stdout",
          "text": [
            "9876543210\n"
          ]
        }
      ]
    },
    {
      "cell_type": "markdown",
      "source": [
        "18. In what situations are lists preferred over dictionaries?\n",
        "\n",
        "  - Lists and dictionaries serve different purposes. A list is an ordered collection of values, while a dictionary maps keys to values. We should prefer lists over dictionaries in following cases:"
      ],
      "metadata": {
        "id": "r_pDUOwQrQME"
      }
    },
    {
      "cell_type": "code",
      "source": [
        "# i. Order Matters\n",
        "\"\"\"\n",
        "Lists preserve insertion order and allow indexed access.\n",
        "Use a list when you need to maintain the sequence of elements\n",
        "\"\"\"\n",
        "colors = [\"red\", \"green\", \"blue\"]\n",
        "print(colors[0])  # Access by position → \"red\""
      ],
      "metadata": {
        "colab": {
          "base_uri": "https://localhost:8080/"
        },
        "id": "N3AXgCouoGuA",
        "outputId": "8c70fd01-78d2-4327-b66b-94bc241c0cd9"
      },
      "execution_count": 41,
      "outputs": [
        {
          "output_type": "stream",
          "name": "stdout",
          "text": [
            "red\n"
          ]
        }
      ]
    },
    {
      "cell_type": "code",
      "source": [
        "# ii. Simple Collections of Items\n",
        "\"\"\"\n",
        "When you only need to store a sequence of values (e.g., names, numbers, etc.)\n",
        "without associating them with unique keys.\n",
        "\"\"\"\n",
        "scores = [85, 90, 78, 92]\n",
        "scores"
      ],
      "metadata": {
        "colab": {
          "base_uri": "https://localhost:8080/"
        },
        "id": "gATYeimvrCMO",
        "outputId": "a26a6990-2646-4ad7-a9ee-0597b0e6fec3"
      },
      "execution_count": 43,
      "outputs": [
        {
          "output_type": "execute_result",
          "data": {
            "text/plain": [
              "[85, 90, 78, 92]"
            ]
          },
          "metadata": {},
          "execution_count": 43
        }
      ]
    },
    {
      "cell_type": "code",
      "source": [
        "# iii. Duplicate Values Are Allowed\n",
        "#Lists can contain duplicates — dictionaries cannot have duplicate keys.\n",
        "\n",
        "names = [\"Ajay\", \"Binchu\", \"Ajay\"]  # Allowed in a list\n",
        "names"
      ],
      "metadata": {
        "colab": {
          "base_uri": "https://localhost:8080/"
        },
        "id": "78rzGsEfrwhg",
        "outputId": "d27255b7-31f1-4e3f-cf8c-996a690a86e8"
      },
      "execution_count": 46,
      "outputs": [
        {
          "output_type": "execute_result",
          "data": {
            "text/plain": [
              "['Ajay', 'Binchu', 'Ajay']"
            ]
          },
          "metadata": {},
          "execution_count": 46
        }
      ]
    },
    {
      "cell_type": "code",
      "source": [
        "# iv. Indexed Access Required\n",
        "\"\"\"\n",
        "Lists allow direct access via numeric indexes (list[0], list[1], etc.),\n",
        "which is not possible with dictionaries.\n",
        "\"\"\"\n",
        "fruits = [\"apple\", \"banana\", \"cherry\"]\n",
        "print(fruits[1])  # \"banana\""
      ],
      "metadata": {
        "colab": {
          "base_uri": "https://localhost:8080/"
        },
        "id": "Q1uIgJX8r9aI",
        "outputId": "200a2c3e-87c9-4f7d-e127-67ac0875de03"
      },
      "execution_count": 47,
      "outputs": [
        {
          "output_type": "stream",
          "name": "stdout",
          "text": [
            "banana\n"
          ]
        }
      ]
    },
    {
      "cell_type": "code",
      "source": [
        "# v. When Data Has No Unique Identifier\n",
        "#If there's no meaningful key for the values, a dictionary doesn’t make sense.\n",
        "\n",
        "temperatures = [21.5, 22.0, 20.8]  # Just values, no keys needed\n",
        "print(temperatures)"
      ],
      "metadata": {
        "colab": {
          "base_uri": "https://localhost:8080/"
        },
        "id": "L6hAY6absJNy",
        "outputId": "72f110e2-883d-44a0-aa15-913beb6c87b5"
      },
      "execution_count": 51,
      "outputs": [
        {
          "output_type": "stream",
          "name": "stdout",
          "text": [
            "[21.5, 22.0, 20.8]\n"
          ]
        }
      ]
    },
    {
      "cell_type": "markdown",
      "source": [
        "19. Why are dictionaries considered unordered, and how does that affect data retrieval?\n",
        "\n",
        "  - Dictionary is a data structure which is a important value structure, optimized for fast storage and recovery based on key. In python, dictionaries are un-ordered because Python dictionaries are not intended to be in order, as simple as that.\n",
        "\n",
        "  - Dictionaries affect data retrieval positively because they are designed for fast access using keys, not positions.\n",
        "# Key Impacts on Data Retrieval:\n",
        "- Fast Lookup by Key\n",
        "- No index based access\n",
        "- Key must be known\n",
        "- Unordered Nature Affects Predictability\n",
        "- Efficient Membership Testing"
      ],
      "metadata": {
        "id": "A25LTluqsneJ"
      }
    },
    {
      "cell_type": "code",
      "source": [
        "# 20. Explain the differnece between the lists and the dictionaries in terms of data retrieval?\n",
        " # Difference Between Lists and Dictionaries in Terms of Data Retrieval\n",
        "\"\"\"\n",
        "Feature\t                     List\t                  Dictionary\n",
        "Access Method\t        By index (position)\t            By key\n",
        "Syntax\t                     list[0]                dict[\"key\"]\n",
        "Search Time\t          O(n) (linear search)  \tO(1) average (hash table lookup)\n",
        "Ordering\t            Ordered\tConceptually           unordered\n",
        "Key Requirement\t           Not required             \tRequired\n",
        "Supports Indexing\t             Yes\t            No (only key-based)\n",
        "\"\"\""
      ],
      "metadata": {
        "colab": {
          "base_uri": "https://localhost:8080/",
          "height": 70
        },
        "id": "tUkgjsi7sUQz",
        "outputId": "efea3868-6b41-4171-dd3a-b17260a9885a"
      },
      "execution_count": 58,
      "outputs": [
        {
          "output_type": "execute_result",
          "data": {
            "text/plain": [
              "'\\nFeature\\t                     List\\t                  Dictionary\\nAccess Method\\t        By index (position)\\t            By key\\nSyntax\\t                     list[0]                dict[\"key\"]\\nSearch Time\\t          O(n) (linear search)  \\tO(1) average (hash table lookup)\\nOrdering\\t            Ordered\\tConceptually           unordered \\nKey Requirement\\t           Not required             \\tRequired\\nSupports Indexing\\t             Yes\\t            No (only key-based)\\n'"
            ],
            "application/vnd.google.colaboratory.intrinsic+json": {
              "type": "string"
            }
          },
          "metadata": {},
          "execution_count": 58
        }
      ]
    },
    {
      "cell_type": "markdown",
      "source": [
        "#PRACTICAL QUESTIONS"
      ],
      "metadata": {
        "id": "HzEoqiTawJXC"
      }
    },
    {
      "cell_type": "code",
      "source": [
        "# 1. Write a code to create a string with your name and print it.\n",
        "my_name= \"Himanshu Aggarwal\"\n",
        "print(my_name)"
      ],
      "metadata": {
        "colab": {
          "base_uri": "https://localhost:8080/"
        },
        "id": "WgbfL0jgvcaz",
        "outputId": "55252946-73e9-48a4-d2d6-77f0103a2b45"
      },
      "execution_count": 132,
      "outputs": [
        {
          "output_type": "stream",
          "name": "stdout",
          "text": [
            "Himanshu Aggarwal\n"
          ]
        }
      ]
    },
    {
      "cell_type": "code",
      "source": [
        "# 2. Write a code to find the length of the string \"Hello Worldl\".\n",
        "string = \"Hello World\"\n",
        "len(string)"
      ],
      "metadata": {
        "colab": {
          "base_uri": "https://localhost:8080/"
        },
        "id": "0r9PpEjl0oLU",
        "outputId": "91bcc76b-6a53-4215-d146-fbb79d982115"
      },
      "execution_count": 133,
      "outputs": [
        {
          "output_type": "execute_result",
          "data": {
            "text/plain": [
              "11"
            ]
          },
          "metadata": {},
          "execution_count": 133
        }
      ]
    },
    {
      "cell_type": "code",
      "source": [
        "# 3. Write a code to slice the first 3 characters from the string \"Python Programming\".\n",
        "str=\"python Programming\"\n",
        "print(str[0:3])"
      ],
      "metadata": {
        "colab": {
          "base_uri": "https://localhost:8080/"
        },
        "id": "RJ2mbcKu1CGV",
        "outputId": "d984ce1b-f06a-4b3b-d124-45c221354513"
      },
      "execution_count": 134,
      "outputs": [
        {
          "output_type": "stream",
          "name": "stdout",
          "text": [
            "pyt\n"
          ]
        }
      ]
    },
    {
      "cell_type": "code",
      "source": [
        "# 4. Write a code to convert the string \"hello\" to uppercase.\n",
        "str = \"hello\"\n",
        "str.upper()"
      ],
      "metadata": {
        "colab": {
          "base_uri": "https://localhost:8080/",
          "height": 35
        },
        "id": "zRgxaGpC1bep",
        "outputId": "67227933-c51e-4c32-aa9b-4208d92c0a3d"
      },
      "execution_count": 135,
      "outputs": [
        {
          "output_type": "execute_result",
          "data": {
            "text/plain": [
              "'HELLO'"
            ],
            "application/vnd.google.colaboratory.intrinsic+json": {
              "type": "string"
            }
          },
          "metadata": {},
          "execution_count": 135
        }
      ]
    },
    {
      "cell_type": "code",
      "source": [
        "# 5. Write a code to replace the word \"apple\" with \"orange\" in the string \"i like apple\".\n",
        "str = \"i like apple\"\n",
        "str.replace(\"apple\", \"orange\")"
      ],
      "metadata": {
        "colab": {
          "base_uri": "https://localhost:8080/",
          "height": 35
        },
        "id": "seyjdkVm11wu",
        "outputId": "db838e8c-d1aa-429d-9a0f-a24949c55a89"
      },
      "execution_count": 136,
      "outputs": [
        {
          "output_type": "execute_result",
          "data": {
            "text/plain": [
              "'i like orange'"
            ],
            "application/vnd.google.colaboratory.intrinsic+json": {
              "type": "string"
            }
          },
          "metadata": {},
          "execution_count": 136
        }
      ]
    },
    {
      "cell_type": "code",
      "source": [
        "# 6. Write a code to create the list with numbers 1 to 5 and print it.\n",
        "my_list = [1,2,3,4,5]\n",
        "print(my_list)"
      ],
      "metadata": {
        "colab": {
          "base_uri": "https://localhost:8080/"
        },
        "id": "gqDcTa6z2Mhx",
        "outputId": "7590dd57-78f7-4f3e-c0b5-c4183424cf79"
      },
      "execution_count": 137,
      "outputs": [
        {
          "output_type": "stream",
          "name": "stdout",
          "text": [
            "[1, 2, 3, 4, 5]\n"
          ]
        }
      ]
    },
    {
      "cell_type": "code",
      "source": [
        "# 7. Write a code to append the number 10 to the list [1,2,3,4].\n",
        "my_list = [1,2,3,4]\n",
        "my_list.append(10)\n",
        "print(my_list)"
      ],
      "metadata": {
        "colab": {
          "base_uri": "https://localhost:8080/"
        },
        "id": "BhGL-E1H2bqg",
        "outputId": "af2302b2-3261-4961-88c7-167c696476b2"
      },
      "execution_count": 138,
      "outputs": [
        {
          "output_type": "stream",
          "name": "stdout",
          "text": [
            "[1, 2, 3, 4, 10]\n"
          ]
        }
      ]
    },
    {
      "cell_type": "code",
      "source": [
        "# 8. Write a code to remove the number 3 from the list [1,2,3,4,5].\n",
        "my_list = [1,2,3,4,5]\n",
        "my_list.remove(3)\n",
        "print(my_list)"
      ],
      "metadata": {
        "colab": {
          "base_uri": "https://localhost:8080/"
        },
        "id": "PFGzb9m-2rTX",
        "outputId": "1ff98d3e-33d7-49e9-e192-7f804318eb24"
      },
      "execution_count": 139,
      "outputs": [
        {
          "output_type": "stream",
          "name": "stdout",
          "text": [
            "[1, 2, 4, 5]\n"
          ]
        }
      ]
    },
    {
      "cell_type": "code",
      "source": [
        "# 9. Write a code to access the second element in the list['a','b','c','d'].\n",
        "my_list = ['a','b','c','d']\n",
        "print(my_list[1])"
      ],
      "metadata": {
        "colab": {
          "base_uri": "https://localhost:8080/"
        },
        "id": "71-HWE0Q20xP",
        "outputId": "be5344ee-0578-420c-813b-579c5dfc8159"
      },
      "execution_count": 140,
      "outputs": [
        {
          "output_type": "stream",
          "name": "stdout",
          "text": [
            "b\n"
          ]
        }
      ]
    },
    {
      "cell_type": "code",
      "source": [
        "# 10. Write a code to reverse the list [10,20,30,40,50].\n",
        "list = [10,20,30,40,50]\n",
        "list.reverse()\n",
        "print(list)"
      ],
      "metadata": {
        "colab": {
          "base_uri": "https://localhost:8080/"
        },
        "id": "lRs2hvcQ3FLN",
        "outputId": "9a7bb694-42e1-48cf-f506-833948a58f94"
      },
      "execution_count": 141,
      "outputs": [
        {
          "output_type": "stream",
          "name": "stdout",
          "text": [
            "[50, 40, 30, 20, 10]\n"
          ]
        }
      ]
    },
    {
      "cell_type": "code",
      "source": [
        "# 11. Write a code to create a tuple with the elements 100,200,300 and print it.\n",
        "my_tuple = (100,200,300)\n",
        "print(my_tuple)"
      ],
      "metadata": {
        "colab": {
          "base_uri": "https://localhost:8080/"
        },
        "id": "7Ib4N3Ff3f4r",
        "outputId": "ad0a85b2-ceb8-4333-f983-a230816ad996"
      },
      "execution_count": 142,
      "outputs": [
        {
          "output_type": "stream",
          "name": "stdout",
          "text": [
            "(100, 200, 300)\n"
          ]
        }
      ]
    },
    {
      "cell_type": "code",
      "source": [
        "# 12. Write a code to access the second-to-last element of the tuple('red','green','blue','yellow').\n",
        "my_tuple = ('red','green','blue','yellow')\n",
        "print(my_tuple[1:])"
      ],
      "metadata": {
        "colab": {
          "base_uri": "https://localhost:8080/"
        },
        "id": "s30Rna9V3qF1",
        "outputId": "19b717c5-da24-4542-d387-441377a10ffd"
      },
      "execution_count": 143,
      "outputs": [
        {
          "output_type": "stream",
          "name": "stdout",
          "text": [
            "('green', 'blue', 'yellow')\n"
          ]
        }
      ]
    },
    {
      "cell_type": "code",
      "source": [
        "my_tuple = ('red','green','blue','yellow')\n",
        "print(my_tuple[-1])"
      ],
      "metadata": {
        "colab": {
          "base_uri": "https://localhost:8080/"
        },
        "id": "2a7ZH6cG3-Bu",
        "outputId": "c45da154-8719-45ef-8872-35c25808793c"
      },
      "execution_count": 144,
      "outputs": [
        {
          "output_type": "stream",
          "name": "stdout",
          "text": [
            "yellow\n"
          ]
        }
      ]
    },
    {
      "cell_type": "code",
      "source": [
        "# 13. write a code to find the minimun number in the tuple (10,20,5,15).\n",
        "my_tuple = (10,20,5,15)\n",
        "min(my_tuple)"
      ],
      "metadata": {
        "colab": {
          "base_uri": "https://localhost:8080/"
        },
        "id": "pB2ex8K_4Rw9",
        "outputId": "ed3d041b-14f1-4957-c64f-5d0c2448ff79"
      },
      "execution_count": 145,
      "outputs": [
        {
          "output_type": "execute_result",
          "data": {
            "text/plain": [
              "5"
            ]
          },
          "metadata": {},
          "execution_count": 145
        }
      ]
    },
    {
      "cell_type": "code",
      "source": [
        "# 14. Write a code to find the index of the element \"cat\" in the tuple ('dog','cat','rabbit').\n",
        "my_tuple = ('dog','cat','rabbit')\n",
        "my_tuple.index('cat')"
      ],
      "metadata": {
        "colab": {
          "base_uri": "https://localhost:8080/"
        },
        "id": "rtFkeTxQ4jnX",
        "outputId": "1f644127-4cbe-4f55-a9c5-e5230ced8340"
      },
      "execution_count": 146,
      "outputs": [
        {
          "output_type": "execute_result",
          "data": {
            "text/plain": [
              "1"
            ]
          },
          "metadata": {},
          "execution_count": 146
        }
      ]
    },
    {
      "cell_type": "code",
      "source": [
        "# 15. Write a code to create a tuple containing three different fruits and check if \"kiwi\" is in it.\n",
        "fruits = (\"apple\", \"banana\", \"kiwi\")\n",
        "if \"kiwi\" in fruits:\n",
        "    print(\"Kiwi is in the tuple.\")\n",
        "else:\n",
        "    print(\"Kiwi is NOT in the tuple.\")"
      ],
      "metadata": {
        "colab": {
          "base_uri": "https://localhost:8080/"
        },
        "id": "HMn62ztc47N-",
        "outputId": "f8e0808f-af6b-407d-b1ad-1f0473370e32"
      },
      "execution_count": 147,
      "outputs": [
        {
          "output_type": "stream",
          "name": "stdout",
          "text": [
            "Kiwi is in the tuple.\n"
          ]
        }
      ]
    },
    {
      "cell_type": "code",
      "source": [
        "fruits = (\"apple\", \"banana\", \"Mango\")\n",
        "if \"kiwi\" in fruits:\n",
        "    print(\"Kiwi is in the tuple.\")\n",
        "else:\n",
        "    print(\"Kiwi is NOT in the tuple.\")"
      ],
      "metadata": {
        "colab": {
          "base_uri": "https://localhost:8080/"
        },
        "id": "Kb_36WN25bpJ",
        "outputId": "1919aa51-2a96-46a6-d967-a99dc050b051"
      },
      "execution_count": 148,
      "outputs": [
        {
          "output_type": "stream",
          "name": "stdout",
          "text": [
            "Kiwi is NOT in the tuple.\n"
          ]
        }
      ]
    },
    {
      "cell_type": "code",
      "source": [
        "# 16. Write a code to create a set with the elements 'a','b','c' and print it.\n",
        "my_set = {'a','b','c'}\n",
        "print(my_set)"
      ],
      "metadata": {
        "colab": {
          "base_uri": "https://localhost:8080/"
        },
        "id": "M6hu-ksb5f1Y",
        "outputId": "0951558a-9732-4fda-c288-58ab5123c881"
      },
      "execution_count": 149,
      "outputs": [
        {
          "output_type": "stream",
          "name": "stdout",
          "text": [
            "{'a', 'c', 'b'}\n"
          ]
        }
      ]
    },
    {
      "cell_type": "code",
      "source": [
        "# 17. Write a code to clear all the elements from the set {1,2,3,4,5}.\n",
        "my_set = {1,2,3,4,5}\n",
        "my_set.clear()\n",
        "print(my_set)"
      ],
      "metadata": {
        "colab": {
          "base_uri": "https://localhost:8080/"
        },
        "id": "EgxYERGk5vS1",
        "outputId": "68776330-eaa7-499d-971f-d9c00800f6c3"
      },
      "execution_count": 150,
      "outputs": [
        {
          "output_type": "stream",
          "name": "stdout",
          "text": [
            "set()\n"
          ]
        }
      ]
    },
    {
      "cell_type": "code",
      "source": [
        "# 18. Write a code to remove the element 4 from the set {1,2,3,4}.\n",
        "my_set = {1,2,3,4}\n",
        "my_set.remove(4)\n",
        "print(my_set)"
      ],
      "metadata": {
        "colab": {
          "base_uri": "https://localhost:8080/"
        },
        "id": "tKCwDneE540r",
        "outputId": "7909ab97-c47e-4284-9624-e9a3b7fa3033"
      },
      "execution_count": 151,
      "outputs": [
        {
          "output_type": "stream",
          "name": "stdout",
          "text": [
            "{1, 2, 3}\n"
          ]
        }
      ]
    },
    {
      "cell_type": "code",
      "source": [
        "# 19. Write a code to find the union of two sets {1,2,3} and {2,3,4}.\n",
        "set1 = {1,2,3}\n",
        "set2 = {2,3,4}\n",
        "set1.union(set2)"
      ],
      "metadata": {
        "colab": {
          "base_uri": "https://localhost:8080/"
        },
        "id": "WHrs4c1i6CJP",
        "outputId": "c81e0067-6aa3-452b-e0f7-42e18d747ec5"
      },
      "execution_count": 152,
      "outputs": [
        {
          "output_type": "execute_result",
          "data": {
            "text/plain": [
              "{1, 2, 3, 4}"
            ]
          },
          "metadata": {},
          "execution_count": 152
        }
      ]
    },
    {
      "cell_type": "code",
      "source": [
        "# 20. Write a code to find the intersection of two sets {1,2,3} and {2,3,4}.\n",
        "set1 = {1,2,3}\n",
        "set2 = {2,3,4}\n",
        "set1.intersection(set2)"
      ],
      "metadata": {
        "colab": {
          "base_uri": "https://localhost:8080/"
        },
        "id": "NhdNYx1B6N1-",
        "outputId": "e78fe195-28e6-4fa1-e11b-99155e8914f0"
      },
      "execution_count": 153,
      "outputs": [
        {
          "output_type": "execute_result",
          "data": {
            "text/plain": [
              "{2, 3}"
            ]
          },
          "metadata": {},
          "execution_count": 153
        }
      ]
    },
    {
      "cell_type": "code",
      "source": [
        "# 21. Write a code to create a dictionary with the keys\"name\", \"age\" and \"city\", and print it.\n",
        "my_dict = {\n",
        "    \"name\": \"Himanshu Agarwal\",\n",
        "    \"age\": 28,\n",
        "    \"city\": \"Delhi\"\n",
        "}\n",
        "\n",
        "print(my_dict)"
      ],
      "metadata": {
        "colab": {
          "base_uri": "https://localhost:8080/"
        },
        "id": "bW_DpE1Q6est",
        "outputId": "74caa5ac-3015-4ba5-c711-5daa6b0079b8"
      },
      "execution_count": 154,
      "outputs": [
        {
          "output_type": "stream",
          "name": "stdout",
          "text": [
            "{'name': 'Himanshu Agarwal', 'age': 28, 'city': 'Delhi'}\n"
          ]
        }
      ]
    },
    {
      "cell_type": "code",
      "source": [
        "# 22. Write a code to add a new key-value pair \"country\":\"USA\" to the dictionary {'name':'John','age':25}.\n",
        "my_dict = {'name':'John','age':25}\n",
        "my_dict[\"country\"]=\"USA\"\n",
        "print(my_dict)"
      ],
      "metadata": {
        "colab": {
          "base_uri": "https://localhost:8080/"
        },
        "id": "FE4_FZwn67iC",
        "outputId": "ccb5f0b8-4085-454e-e935-be8c44b53fb8"
      },
      "execution_count": 155,
      "outputs": [
        {
          "output_type": "stream",
          "name": "stdout",
          "text": [
            "{'name': 'John', 'age': 25, 'country': 'USA'}\n"
          ]
        }
      ]
    },
    {
      "cell_type": "code",
      "source": [
        "# 23. Write a code to access the value associated with the key \"name\" in the dictionary {'name':'Alice', 'age':30}.\n",
        "my_dict = {'name':'Alice', 'age':30}\n",
        "print(my_dict[\"name\"])"
      ],
      "metadata": {
        "colab": {
          "base_uri": "https://localhost:8080/"
        },
        "id": "jBDzjIsF7VMg",
        "outputId": "c78129e3-e476-4676-cfce-a32e51d9838b"
      },
      "execution_count": 156,
      "outputs": [
        {
          "output_type": "stream",
          "name": "stdout",
          "text": [
            "Alice\n"
          ]
        }
      ]
    },
    {
      "cell_type": "code",
      "source": [
        "# 24. Write a code to remove the key \"age\" from the dictionary {'name': 'Bob', 'age': 22, 'city': 'New York'}.\n",
        "my_dict = {'name': 'Bob', 'age': 22, 'city': 'New York'}\n",
        "del my_dict[\"age\"]\n",
        "print(my_dict)"
      ],
      "metadata": {
        "colab": {
          "base_uri": "https://localhost:8080/"
        },
        "id": "xan29jqi7zOd",
        "outputId": "f23f2f26-2c30-430e-a108-e7ace5c01569"
      },
      "execution_count": 157,
      "outputs": [
        {
          "output_type": "stream",
          "name": "stdout",
          "text": [
            "{'name': 'Bob', 'city': 'New York'}\n"
          ]
        }
      ]
    },
    {
      "cell_type": "code",
      "source": [
        "# 25. Write a code to check if the key \"city\" exists in the dictionary {'name': 'Alice', 'city': 'Paris'}.\n",
        "my_dict = {'name': 'Alice', 'city': 'Paris'}\n",
        "if \"city\" in my_dict:\n",
        "    print(\"The key 'city' exists in the dictionary.\")\n",
        "else:\n",
        "    print(\"The key 'city' does not exist in the dictionary.\")"
      ],
      "metadata": {
        "colab": {
          "base_uri": "https://localhost:8080/"
        },
        "id": "bCA9DUQd77Rt",
        "outputId": "9d8d9255-82b7-4729-c821-cf68bdbb1eed"
      },
      "execution_count": 158,
      "outputs": [
        {
          "output_type": "stream",
          "name": "stdout",
          "text": [
            "The key 'city' exists in the dictionary.\n"
          ]
        }
      ]
    },
    {
      "cell_type": "code",
      "source": [
        "# 26.  Write a code to create a list, a tuple, and a dictionary, and print them all.\n",
        "# Creating a list\n",
        "my_list = [10, 20, 30, 40]\n",
        "\n",
        "# Creating a tuple\n",
        "my_tuple = ('apple', 'banana', 'cherry')\n",
        "\n",
        "# Creating a dictionary\n",
        "my_dict = {'name': 'Himanshu', 'age': 28, 'city': 'New Delhi'}\n",
        "\n",
        "# Printing them all\n",
        "print(\"List:\", my_list)\n",
        "print(\"Tuple:\", my_tuple)\n",
        "print(\"Dictionary:\", my_dict)"
      ],
      "metadata": {
        "colab": {
          "base_uri": "https://localhost:8080/"
        },
        "id": "aK49RpYC8ECX",
        "outputId": "ab298c0e-b8ac-4bf4-ca68-26cd83920e69"
      },
      "execution_count": 159,
      "outputs": [
        {
          "output_type": "stream",
          "name": "stdout",
          "text": [
            "List: [10, 20, 30, 40]\n",
            "Tuple: ('apple', 'banana', 'cherry')\n",
            "Dictionary: {'name': 'Himanshu', 'age': 28, 'city': 'New Delhi'}\n"
          ]
        }
      ]
    },
    {
      "cell_type": "code",
      "source": [
        "# 27.  Write a code to create a list of 5 random numbers between 1 and 100, sort it in ascending order, and print the result.(replaced)\n",
        "\n",
        "import random\n",
        "random_numbers = [random.randint(1, 100) for _ in range(5)]\n",
        "random_numbers.sort()  # Sort the list in ascending order\n",
        "print(\"Sorted list of random numbers:\", random_numbers)"
      ],
      "metadata": {
        "colab": {
          "base_uri": "https://localhost:8080/"
        },
        "id": "c77rbFOM8a09",
        "outputId": "b7440480-9e4b-42ee-f7b9-17ab601a038c"
      },
      "execution_count": 160,
      "outputs": [
        {
          "output_type": "stream",
          "name": "stdout",
          "text": [
            "Sorted list of random numbers: [34, 37, 37, 82, 91]\n"
          ]
        }
      ]
    },
    {
      "cell_type": "code",
      "source": [
        "# 28. Write a code to create a list with strings and print the element at the third index.\n",
        "my_list = [\"apple\", \"banana\", \"cherry\", \"date\", \"elderberry\"]\n",
        "print(my_list[3])"
      ],
      "metadata": {
        "colab": {
          "base_uri": "https://localhost:8080/"
        },
        "id": "h_0aeIPh86l0",
        "outputId": "bd2ecdd0-e196-4dc1-962b-3dffb8b56dba"
      },
      "execution_count": 161,
      "outputs": [
        {
          "output_type": "stream",
          "name": "stdout",
          "text": [
            "date\n"
          ]
        }
      ]
    },
    {
      "cell_type": "code",
      "source": [
        "# 29. Write a code to combine two dictionaries into one and print the result.\n",
        "dict1 = {'a': 1, 'b': 2}\n",
        "dict2 = {'c': 3, 'd': 4}\n",
        "combined_dict = {**dict1, **dict2}\n",
        "print(combined_dict)"
      ],
      "metadata": {
        "colab": {
          "base_uri": "https://localhost:8080/"
        },
        "id": "YVBfVXC89ZSA",
        "outputId": "c25e6b5a-8a94-4e6f-aa65-78b7e902e4ab"
      },
      "execution_count": 162,
      "outputs": [
        {
          "output_type": "stream",
          "name": "stdout",
          "text": [
            "{'a': 1, 'b': 2, 'c': 3, 'd': 4}\n"
          ]
        }
      ]
    },
    {
      "cell_type": "code",
      "source": [
        "# 30. Write a code to convert a list of strings into a set.\n",
        "my_list = [\"apple\", \"banana\", \"cherry\", \"date\", \"elderberry\"]\n",
        "my_set = set(my_list)\n",
        "print(my_set)"
      ],
      "metadata": {
        "colab": {
          "base_uri": "https://localhost:8080/"
        },
        "id": "vGhgUVFg9ica",
        "outputId": "13535217-6a63-4a91-cdc6-caa31461878c"
      },
      "execution_count": 163,
      "outputs": [
        {
          "output_type": "stream",
          "name": "stdout",
          "text": [
            "{'date', 'elderberry', 'cherry', 'banana', 'apple'}\n"
          ]
        }
      ]
    },
    {
      "cell_type": "code",
      "source": [],
      "metadata": {
        "id": "ZV_kZVyM9tzN"
      },
      "execution_count": null,
      "outputs": []
    }
  ]
}